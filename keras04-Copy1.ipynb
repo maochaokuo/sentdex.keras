{
 "cells": [
  {
   "cell_type": "code",
   "execution_count": 1,
   "metadata": {},
   "outputs": [
    {
     "name": "stdout",
     "output_type": "stream",
     "text": [
      "Train on 1382 samples, validate on 593 samples\n",
      "Epoch 1/10\n",
      "1382/1382 [==============================] - 10s 7ms/step - loss: 0.6974 - acc: 0.4935 - val_loss: 0.6922 - val_acc: 0.4840\n",
      "Epoch 2/10\n",
      "1382/1382 [==============================] - 10s 7ms/step - loss: 0.6910 - acc: 0.5275 - val_loss: 0.7001 - val_acc: 0.4806\n",
      "Epoch 3/10\n",
      "1382/1382 [==============================] - 9s 7ms/step - loss: 0.6781 - acc: 0.5832 - val_loss: 0.6830 - val_acc: 0.5464\n",
      "Epoch 4/10\n",
      "1382/1382 [==============================] - 9s 7ms/step - loss: 0.6395 - acc: 0.6592 - val_loss: 0.6782 - val_acc: 0.5818\n",
      "Epoch 5/10\n",
      "1382/1382 [==============================] - 9s 6ms/step - loss: 0.6115 - acc: 0.6700 - val_loss: 0.6659 - val_acc: 0.6155\n",
      "Epoch 6/10\n",
      "1382/1382 [==============================] - 10s 7ms/step - loss: 0.5882 - acc: 0.6975 - val_loss: 0.6672 - val_acc: 0.6138\n",
      "Epoch 7/10\n",
      "1382/1382 [==============================] - 10s 7ms/step - loss: 0.5349 - acc: 0.7518 - val_loss: 0.6795 - val_acc: 0.6172\n",
      "Epoch 8/10\n",
      "1382/1382 [==============================] - 10s 7ms/step - loss: 0.4808 - acc: 0.7750 - val_loss: 0.7083 - val_acc: 0.6256\n",
      "Epoch 9/10\n",
      "1382/1382 [==============================] - 10s 7ms/step - loss: 0.4271 - acc: 0.7981 - val_loss: 0.7081 - val_acc: 0.6476\n",
      "Epoch 10/10\n",
      "1382/1382 [==============================] - 10s 7ms/step - loss: 0.3611 - acc: 0.8437 - val_loss: 0.7397 - val_acc: 0.6577\n"
     ]
    },
    {
     "data": {
      "text/plain": [
       "<tensorflow.python.keras.callbacks.History at 0x2a1ae4d2be0>"
      ]
     },
     "execution_count": 1,
     "metadata": {},
     "output_type": "execute_result"
    }
   ],
   "source": [
    "from tensorflow.python.keras.models import Sequential\n",
    "from tensorflow.python.keras.layers import Dense, Dropout, Activation, Flatten\n",
    "from tensorflow.python.keras.layers import Conv2D, MaxPooling2D\n",
    "# more info on callbakcs: https://keras.io/callbacks/ model saver is cool too.\n",
    "from tensorflow.python.keras.callbacks import TensorBoard\n",
    "import pickle\n",
    "import time\n",
    "\n",
    "NAME = \"Cats-vs-dogs-64x2-CNN\"\n",
    "\n",
    "pickle_in = open(\"X.pickle\",\"rb\")\n",
    "X = pickle.load(pickle_in)\n",
    "\n",
    "pickle_in = open(\"y.pickle\",\"rb\")\n",
    "y = pickle.load(pickle_in)\n",
    "\n",
    "X = X/255.0\n",
    "\n",
    "model = Sequential()\n",
    "\n",
    "model.add(Conv2D(64, (3, 3), input_shape=X.shape[1:]))\n",
    "model.add(Activation('relu'))\n",
    "model.add(MaxPooling2D(pool_size=(2, 2)))\n",
    "\n",
    "model.add(Conv2D(64, (3, 3)))\n",
    "model.add(Activation('relu'))\n",
    "model.add(MaxPooling2D(pool_size=(2, 2)))\n",
    "\n",
    "model.add(Flatten())  # this converts our 3D feature maps to 1D feature vectors\n",
    "model.add(Dense(64))\n",
    "model.add(Activation('relu'))\n",
    "\n",
    "model.add(Dense(1))\n",
    "model.add(Activation('sigmoid'))\n",
    "\n",
    "tensorboard = TensorBoard(log_dir=\"logs/{}\".format(NAME))\n",
    "\n",
    "model.compile(loss='binary_crossentropy',\n",
    "              optimizer='adam',\n",
    "              metrics=['accuracy'],\n",
    "              )\n",
    "\n",
    "model.fit(X, y,\n",
    "          batch_size=32,\n",
    "          epochs=10,\n",
    "          validation_split=0.3,\n",
    "          callbacks=[tensorboard])\n",
    "#最後要看圖 進文字模式 tensorboard --logdir=logs/   (不加字串引號)"
   ]
  },
  {
   "cell_type": "code",
   "execution_count": null,
   "metadata": {},
   "outputs": [],
   "source": []
  }
 ],
 "metadata": {
  "kernelspec": {
   "display_name": "Python 3",
   "language": "python",
   "name": "python3"
  },
  "language_info": {
   "codemirror_mode": {
    "name": "ipython",
    "version": 3
   },
   "file_extension": ".py",
   "mimetype": "text/x-python",
   "name": "python",
   "nbconvert_exporter": "python",
   "pygments_lexer": "ipython3",
   "version": "3.6.8"
  }
 },
 "nbformat": 4,
 "nbformat_minor": 2
}
