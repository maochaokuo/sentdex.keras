{
 "cells": [
  {
   "cell_type": "code",
   "execution_count": 1,
   "metadata": {},
   "outputs": [
    {
     "name": "stdout",
     "output_type": "stream",
     "text": [
      "Train on 1777 samples, validate on 198 samples\n",
      "Epoch 1/10\n",
      "1777/1777 [==============================] - 12s 7ms/step - loss: 0.7176 - acc: 0.5166 - val_loss: 0.6945 - val_acc: 0.4747\n",
      "Epoch 2/10\n",
      "1777/1777 [==============================] - 12s 7ms/step - loss: 0.6785 - acc: 0.5667 - val_loss: 0.6888 - val_acc: 0.5404\n",
      "Epoch 3/10\n",
      "1777/1777 [==============================] - 12s 7ms/step - loss: 0.6425 - acc: 0.6353 - val_loss: 0.6526 - val_acc: 0.6010\n",
      "Epoch 4/10\n",
      "1777/1777 [==============================] - 13s 7ms/step - loss: 0.6210 - acc: 0.6584 - val_loss: 0.6404 - val_acc: 0.6667\n",
      "Epoch 5/10\n",
      "1777/1777 [==============================] - 12s 7ms/step - loss: 0.5757 - acc: 0.7079 - val_loss: 0.6436 - val_acc: 0.6667\n",
      "Epoch 6/10\n",
      "1777/1777 [==============================] - 13s 7ms/step - loss: 0.5385 - acc: 0.7394 - val_loss: 0.6339 - val_acc: 0.6616\n",
      "Epoch 7/10\n",
      "1777/1777 [==============================] - 15s 8ms/step - loss: 0.4926 - acc: 0.7642 - val_loss: 0.6783 - val_acc: 0.6768\n",
      "Epoch 8/10\n",
      "1777/1777 [==============================] - 14s 8ms/step - loss: 0.4579 - acc: 0.7845 - val_loss: 0.7065 - val_acc: 0.6869\n",
      "Epoch 9/10\n",
      "1777/1777 [==============================] - 14s 8ms/step - loss: 0.4123 - acc: 0.8194 - val_loss: 0.7467 - val_acc: 0.6515\n",
      "Epoch 10/10\n",
      "1777/1777 [==============================] - 12s 7ms/step - loss: 0.3692 - acc: 0.8346 - val_loss: 0.7758 - val_acc: 0.6414\n"
     ]
    },
    {
     "data": {
      "text/plain": [
       "<tensorflow.python.keras.callbacks.History at 0x250fc5960f0>"
      ]
     },
     "execution_count": 1,
     "metadata": {},
     "output_type": "execute_result"
    }
   ],
   "source": [
    "import tensorflow as tf\n",
    "from tensorflow.python.keras.models import Sequential\n",
    "from tensorflow.python.keras.layers import Dense, Dropout, Activation, Flatten, Conv2D, MaxPooling2D\n",
    "import pickle\n",
    "\n",
    "X = pickle.load(open(\"X.pickle\",\"rb\"))\n",
    "y = pickle.load(open(\"y.pickle\",\"rb\"))\n",
    "\n",
    "X = X/255.0\n",
    "\n",
    "model = Sequential()\n",
    "model.add(Conv2D(64, (3,3), input_shape = X.shape[1:]))\n",
    "model.add(Activation(\"relu\"))\n",
    "model.add(MaxPooling2D(pool_size=(2,2)))\n",
    "\n",
    "model.add(Conv2D(64, (3,3) ))\n",
    "model.add(Activation(\"relu\"))\n",
    "model.add(MaxPooling2D(pool_size=(2,2)))\n",
    "\n",
    "model.add(Flatten())\n",
    "model.add(Dense(64))\n",
    "\n",
    "model.add(Dense(1))\n",
    "model.add(Activation('sigmoid'))\n",
    "\n",
    "model.compile(loss=\"binary_crossentropy\",\n",
    "             optimizer=\"adam\",\n",
    "             metrics=['accuracy'])\n",
    "\n",
    "model.fit(X, y, batch_size=32,epochs=10, validation_split=0.1)"
   ]
  },
  {
   "cell_type": "code",
   "execution_count": null,
   "metadata": {},
   "outputs": [],
   "source": []
  },
  {
   "cell_type": "code",
   "execution_count": null,
   "metadata": {},
   "outputs": [],
   "source": []
  }
 ],
 "metadata": {
  "kernelspec": {
   "display_name": "Python 3",
   "language": "python",
   "name": "python3"
  },
  "language_info": {
   "codemirror_mode": {
    "name": "ipython",
    "version": 3
   },
   "file_extension": ".py",
   "mimetype": "text/x-python",
   "name": "python",
   "nbconvert_exporter": "python",
   "pygments_lexer": "ipython3",
   "version": "3.6.8"
  }
 },
 "nbformat": 4,
 "nbformat_minor": 2
}
