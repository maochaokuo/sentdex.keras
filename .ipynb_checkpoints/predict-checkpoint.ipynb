{
 "cells": [
  {
   "cell_type": "markdown",
   "metadata": {},
   "source": [
    "# Predict Stock Price\n",
    "\n",
    "1. Get historic stock price data\n",
    "2. Extract price to predict\n",
    "3. Normalize\n",
    "4. Create Time Series\n",
    "5. Build model\n",
    "6. Fit model\n",
    "7. Test and evaluate"
   ]
  },
  {
   "cell_type": "code",
   "execution_count": 2,
   "metadata": {},
   "outputs": [],
   "source": [
    "from tensorflow.keras import backend as K\n",
    "import os\n",
    "from importlib import reload\n",
    "\n",
    "def set_keras_backend(backend):\n",
    "    if K.backend() != backend:\n",
    "        os.environ['KERAS_BACKEND'] = backend\n",
    "        reload(K)\n",
    "        assert K.backend() == backend\n",
    "\n",
    "set_keras_backend(\"tensorflow\")\n",
    "#set_keras_backend(\"cntk\")"
   ]
  },
  {
   "cell_type": "code",
   "execution_count": 5,
   "metadata": {},
   "outputs": [],
   "source": [
    "import numpy as np # linear algebra\n",
    "import pandas as pd # data processing, CSV file I/O (e.g. pd.read_csv)\n",
    "from tensorflow.python.keras.layers.core import Dense, Activation, Dropout\n",
    "from tensorflow.python.keras.layers.recurrent import LSTM\n",
    "from tensorflow.python.keras.models import Sequential\n",
    "#from sklearn.cross_validation import  train_test_split\n",
    "from sklearn.model_selection import KFold\n",
    "from sklearn.model_selection import train_test_split\n",
    "\n",
    "from sklearn.preprocessing import MinMaxScaler\n",
    "from sklearn.metrics import mean_squared_error\n",
    "import matplotlib.pyplot as plt\n",
    "import math"
   ]
  },
  {
   "cell_type": "code",
   "execution_count": 6,
   "metadata": {},
   "outputs": [],
   "source": [
    "np.random.seed(7)"
   ]
  },
  {
   "cell_type": "code",
   "execution_count": 8,
   "metadata": {},
   "outputs": [
    {
     "data": {
      "text/html": [
       "<div>\n",
       "<style scoped>\n",
       "    .dataframe tbody tr th:only-of-type {\n",
       "        vertical-align: middle;\n",
       "    }\n",
       "\n",
       "    .dataframe tbody tr th {\n",
       "        vertical-align: top;\n",
       "    }\n",
       "\n",
       "    .dataframe thead th {\n",
       "        text-align: right;\n",
       "    }\n",
       "</style>\n",
       "<table border=\"1\" class=\"dataframe\">\n",
       "  <thead>\n",
       "    <tr style=\"text-align: right;\">\n",
       "      <th></th>\n",
       "      <th>dealdate</th>\n",
       "      <th>dealtime</th>\n",
       "      <th>dealdatetime</th>\n",
       "      <th>open</th>\n",
       "      <th>high</th>\n",
       "      <th>low</th>\n",
       "      <th>close</th>\n",
       "      <th>volume</th>\n",
       "    </tr>\n",
       "  </thead>\n",
       "  <tbody>\n",
       "    <tr>\n",
       "      <th>0</th>\n",
       "      <td>20180629</td>\n",
       "      <td>84500</td>\n",
       "      <td>2018-06-29 08:45:00</td>\n",
       "      <td>10541.0</td>\n",
       "      <td>10542.0</td>\n",
       "      <td>10529.0</td>\n",
       "      <td>10531.0</td>\n",
       "      <td>4426</td>\n",
       "    </tr>\n",
       "    <tr>\n",
       "      <th>1</th>\n",
       "      <td>20180629</td>\n",
       "      <td>84600</td>\n",
       "      <td>2018-06-29 08:46:00</td>\n",
       "      <td>10531.0</td>\n",
       "      <td>10532.0</td>\n",
       "      <td>10526.0</td>\n",
       "      <td>10531.0</td>\n",
       "      <td>2142</td>\n",
       "    </tr>\n",
       "    <tr>\n",
       "      <th>2</th>\n",
       "      <td>20180629</td>\n",
       "      <td>84700</td>\n",
       "      <td>2018-06-29 08:47:00</td>\n",
       "      <td>10530.0</td>\n",
       "      <td>10532.0</td>\n",
       "      <td>10530.0</td>\n",
       "      <td>10532.0</td>\n",
       "      <td>454</td>\n",
       "    </tr>\n",
       "    <tr>\n",
       "      <th>3</th>\n",
       "      <td>20180629</td>\n",
       "      <td>84800</td>\n",
       "      <td>2018-06-29 08:48:00</td>\n",
       "      <td>10531.0</td>\n",
       "      <td>10538.0</td>\n",
       "      <td>10529.0</td>\n",
       "      <td>10536.0</td>\n",
       "      <td>1204</td>\n",
       "    </tr>\n",
       "    <tr>\n",
       "      <th>4</th>\n",
       "      <td>20180629</td>\n",
       "      <td>84900</td>\n",
       "      <td>2018-06-29 08:49:00</td>\n",
       "      <td>10537.0</td>\n",
       "      <td>10537.0</td>\n",
       "      <td>10527.0</td>\n",
       "      <td>10527.0</td>\n",
       "      <td>1522</td>\n",
       "    </tr>\n",
       "  </tbody>\n",
       "</table>\n",
       "</div>"
      ],
      "text/plain": [
       "   dealdate  dealtime         dealdatetime     open     high      low  \\\n",
       "0  20180629     84500  2018-06-29 08:45:00  10541.0  10542.0  10529.0   \n",
       "1  20180629     84600  2018-06-29 08:46:00  10531.0  10532.0  10526.0   \n",
       "2  20180629     84700  2018-06-29 08:47:00  10530.0  10532.0  10530.0   \n",
       "3  20180629     84800  2018-06-29 08:48:00  10531.0  10538.0  10529.0   \n",
       "4  20180629     84900  2018-06-29 08:49:00  10537.0  10537.0  10527.0   \n",
       "\n",
       "     close  volume  \n",
       "0  10531.0    4426  \n",
       "1  10531.0    2142  \n",
       "2  10532.0     454  \n",
       "3  10536.0    1204  \n",
       "4  10527.0    1522  "
      ]
     },
     "execution_count": 8,
     "metadata": {},
     "output_type": "execute_result"
    }
   ],
   "source": [
    "#load the dataset\n",
    "url = 'https://raw.githubusercontent.com/maochaokuo/tensorflow1/master/sharedfiles/HistoricalQuotes.csv'\n",
    "msft_dataset = pd.read_csv(url) #'~/HistoricalQuotes.csv')\n",
    "msft_dataset.head()"
   ]
  },
  {
   "cell_type": "code",
   "execution_count": 9,
   "metadata": {},
   "outputs": [
    {
     "data": {
      "text/plain": [
       "dealdate          int64\n",
       "dealtime          int64\n",
       "dealdatetime     object\n",
       "open            float64\n",
       "high            float64\n",
       "low             float64\n",
       "close           float64\n",
       "volume            int64\n",
       "dtype: object"
      ]
     },
     "execution_count": 9,
     "metadata": {},
     "output_type": "execute_result"
    }
   ],
   "source": [
    "msft_dataset.dtypes"
   ]
  },
  {
   "cell_type": "code",
   "execution_count": 10,
   "metadata": {},
   "outputs": [],
   "source": [
    "msft_dataset['date'] = pd.to_datetime(msft_dataset['dealdatetime'])\n",
    "msft_dataset['close'] = pd.to_numeric(msft_dataset['close'], downcast='float')"
   ]
  },
  {
   "cell_type": "code",
   "execution_count": 11,
   "metadata": {},
   "outputs": [
    {
     "name": "stdout",
     "output_type": "stream",
     "text": [
      "<class 'pandas.core.frame.DataFrame'>\n",
      "DatetimeIndex: 48224 entries, 2018-06-29 08:45:00 to 2019-02-22 13:44:00\n",
      "Data columns (total 8 columns):\n",
      "dealdate        48224 non-null int64\n",
      "dealtime        48224 non-null int64\n",
      "dealdatetime    48224 non-null object\n",
      "open            48224 non-null float64\n",
      "high            48224 non-null float64\n",
      "low             48224 non-null float64\n",
      "close           48224 non-null float32\n",
      "volume          48224 non-null int64\n",
      "dtypes: float32(1), float64(3), int64(3), object(1)\n",
      "memory usage: 3.1+ MB\n"
     ]
    }
   ],
   "source": [
    "msft_dataset.set_index('date',inplace=True)\n",
    "msft_dataset.info()"
   ]
  },
  {
   "cell_type": "code",
   "execution_count": 12,
   "metadata": {},
   "outputs": [],
   "source": [
    "msft_dataset.sort_index(inplace=True)"
   ]
  },
  {
   "cell_type": "code",
   "execution_count": 13,
   "metadata": {},
   "outputs": [
    {
     "data": {
      "image/png": "[encoded data removed]",
      "text/plain": [
       "<Figure size 432x288 with 1 Axes>"
      ]
     },
     "metadata": {
      "needs_background": "light"
     },
     "output_type": "display_data"
    }
   ],
   "source": [
    "#extract just close prices as that is what we want to predict\n",
    "msft_close = msft_dataset['close']\n",
    "msft_close = msft_close.values.reshape(len(msft_close), 1)\n",
    "plt.plot(msft_close)\n",
    "plt.show()"
   ]
  },
  {
   "cell_type": "code",
   "execution_count": 14,
   "metadata": {},
   "outputs": [],
   "source": [
    "#normalize data\n",
    "scaler = MinMaxScaler(feature_range=(0,1)) # ??"
   ]
  },
  {
   "cell_type": "code",
   "execution_count": 15,
   "metadata": {},
   "outputs": [
    {
     "data": {
      "text/plain": [
       "array([[0.67050457],\n",
       "       [0.67050457],\n",
       "       [0.67105246],\n",
       "       ...,\n",
       "       [0.54605246],\n",
       "       [0.5471492 ],\n",
       "       [0.54934216]], dtype=float32)"
      ]
     },
     "execution_count": 15,
     "metadata": {},
     "output_type": "execute_result"
    }
   ],
   "source": [
    "msft_close = scaler.fit_transform(msft_close) # ??\n",
    "msft_close"
   ]
  },
  {
   "cell_type": "code",
   "execution_count": 16,
   "metadata": {},
   "outputs": [
    {
     "name": "stdout",
     "output_type": "stream",
     "text": [
      "Split data into train and test:  33756 14468\n"
     ]
    }
   ],
   "source": [
    "#split data into train and test\n",
    "train_size = int(len(msft_close)* 0.7)\n",
    "test_size = len(msft_close) - train_size\n",
    "\n",
    "msft_train, msft_test = msft_close[0:train_size, :], msft_close[train_size:len(msft_close), :] #??很奇怪的寫法\n",
    "\n",
    "print('Split data into train and test: ', len(msft_train), len(msft_test))"
   ]
  },
  {
   "cell_type": "code",
   "execution_count": 17,
   "metadata": {},
   "outputs": [],
   "source": [
    "#need to now convert the data into time series looking back over a period of days...e.g. use last 7 days to predict price\n",
    "\n",
    "def create_ts(ds, series):#?? \n",
    "    X, Y =[], []\n",
    "    for i in range(len(ds)-series - 1):\n",
    "        item = ds[i:(i+series), 0]\n",
    "        X.append(item)\n",
    "        Y.append(ds[i+series, 0])\n",
    "    return np.array(X), np.array(Y)# ?? np\n",
    "\n",
    "series = 7\n",
    "\n",
    "trainX, trainY = create_ts(msft_train, series)\n",
    "testX, testY = create_ts(msft_test, series)"
   ]
  },
  {
   "cell_type": "code",
   "execution_count": 18,
   "metadata": {},
   "outputs": [
    {
     "data": {
      "text/plain": [
       "array([[0.67050457, 0.67050457, 0.67105246, ..., 0.6683116 , 0.67050457,\n",
       "        0.67105246],\n",
       "       [0.67050457, 0.67105246, 0.67324543, ..., 0.67050457, 0.67105246,\n",
       "        0.6699562 ],\n",
       "       [0.67105246, 0.67324543, 0.6683116 , ..., 0.67105246, 0.6699562 ,\n",
       "        0.6688595 ],\n",
       "       ...,\n",
       "       [0.19078922, 0.19024134, 0.19078922, ..., 0.18914461, 0.18969297,\n",
       "        0.18969297],\n",
       "       [0.19024134, 0.19078922, 0.18914461, ..., 0.18969297, 0.18969297,\n",
       "        0.18914461],\n",
       "       [0.19078922, 0.18914461, 0.18914461, ..., 0.18969297, 0.18914461,\n",
       "        0.19024134]], dtype=float32)"
      ]
     },
     "execution_count": 18,
     "metadata": {},
     "output_type": "execute_result"
    }
   ],
   "source": [
    "trainX"
   ]
  },
  {
   "cell_type": "code",
   "execution_count": 19,
   "metadata": {},
   "outputs": [
    {
     "data": {
      "text/plain": [
       "array([0.67050457, 0.67050457, 0.67105246, 0.67324543, 0.6683116 ,\n",
       "       0.67050457, 0.67105246], dtype=float32)"
      ]
     },
     "execution_count": 19,
     "metadata": {},
     "output_type": "execute_result"
    }
   ],
   "source": [
    "trainX[0]"
   ]
  },
  {
   "cell_type": "code",
   "execution_count": 20,
   "metadata": {},
   "outputs": [],
   "source": [
    "#reshape into  LSTM format - samples, steps, features\n",
    "trainX = np.reshape(trainX, (trainX.shape[0], trainX.shape[1], 1))#??\n",
    "testX = np.reshape(testX, (testX.shape[0], testX.shape[1], 1))"
   ]
  },
  {
   "cell_type": "code",
   "execution_count": 21,
   "metadata": {},
   "outputs": [
    {
     "name": "stdout",
     "output_type": "stream",
     "text": [
      "WARNING:tensorflow:From e:\\python368\\lib\\site-packages\\tensorflow\\python\\ops\\resource_variable_ops.py:435: colocate_with (from tensorflow.python.framework.ops) is deprecated and will be removed in a future version.\n",
      "Instructions for updating:\n",
      "Colocations handled automatically by placer.\n",
      "WARNING:tensorflow:From e:\\python368\\lib\\site-packages\\tensorflow\\python\\keras\\utils\\losses_utils.py:170: to_float (from tensorflow.python.ops.math_ops) is deprecated and will be removed in a future version.\n",
      "Instructions for updating:\n",
      "Use tf.cast instead.\n",
      "WARNING:tensorflow:From e:\\python368\\lib\\site-packages\\tensorflow\\python\\ops\\math_ops.py:3066: to_int32 (from tensorflow.python.ops.math_ops) is deprecated and will be removed in a future version.\n",
      "Instructions for updating:\n",
      "Use tf.cast instead.\n",
      "Epoch 1/100\n",
      "33748/33748 [==============================] - 10s 285us/sample - loss: 0.0107\n",
      "Epoch 2/100\n",
      "33748/33748 [==============================] - 4s 125us/sample - loss: 1.1424e-04\n",
      "Epoch 3/100\n",
      "33748/33748 [==============================] - 4s 121us/sample - loss: 5.7499e-05\n",
      "Epoch 4/100\n",
      "33748/33748 [==============================] - 4s 129us/sample - loss: 4.6339e-05\n",
      "Epoch 5/100\n",
      "33748/33748 [==============================] - 4s 121us/sample - loss: 3.7633e-05\n",
      "Epoch 6/100\n",
      "33748/33748 [==============================] - 4s 131us/sample - loss: 2.9552e-05\n",
      "Epoch 7/100\n",
      "33748/33748 [==============================] - 4s 132us/sample - loss: 2.5772e-05\n",
      "Epoch 8/100\n",
      "33748/33748 [==============================] - 4s 132us/sample - loss: 2.4519e-05\n",
      "Epoch 9/100\n",
      "33748/33748 [==============================] - 4s 130us/sample - loss: 2.4116e-05\n",
      "Epoch 10/100\n",
      "33748/33748 [==============================] - 4s 130us/sample - loss: 2.3517e-05\n",
      "Epoch 11/100\n",
      "33748/33748 [==============================] - 5s 141us/sample - loss: 2.3138e-05\n",
      "Epoch 12/100\n",
      "33748/33748 [==============================] - 4s 132us/sample - loss: 2.2572e-05\n",
      "Epoch 13/100\n",
      "33748/33748 [==============================] - 5s 137us/sample - loss: 2.1780e-05\n",
      "Epoch 14/100\n",
      "33748/33748 [==============================] - 5s 137us/sample - loss: 2.1366e-05\n",
      "Epoch 15/100\n",
      "33748/33748 [==============================] - 5s 136us/sample - loss: 2.0694e-05\n",
      "Epoch 16/100\n",
      "33748/33748 [==============================] - 5s 137us/sample - loss: 2.0083e-05\n",
      "Epoch 17/100\n",
      "33748/33748 [==============================] - 6s 163us/sample - loss: 1.9479e-05\n",
      "Epoch 18/100\n",
      "33748/33748 [==============================] - 5s 146us/sample - loss: 1.9484e-05\n",
      "Epoch 19/100\n",
      "33748/33748 [==============================] - 5s 149us/sample - loss: 1.8822e-05\n",
      "Epoch 20/100\n",
      "33748/33748 [==============================] - 5s 151us/sample - loss: 1.8432e-05\n",
      "Epoch 21/100\n",
      "33748/33748 [==============================] - 5s 143us/sample - loss: 1.7880e-05\n",
      "Epoch 22/100\n",
      "33748/33748 [==============================] - 5s 134us/sample - loss: 1.7592e-05\n",
      "Epoch 23/100\n",
      "33748/33748 [==============================] - 5s 147us/sample - loss: 1.7319e-05\n",
      "Epoch 24/100\n",
      "33748/33748 [==============================] - 5s 160us/sample - loss: 1.7165e-05\n",
      "Epoch 25/100\n",
      "33748/33748 [==============================] - 5s 143us/sample - loss: 1.6776e-05\n",
      "Epoch 26/100\n",
      "33748/33748 [==============================] - 4s 132us/sample - loss: 1.6135e-05\n",
      "Epoch 27/100\n",
      "33748/33748 [==============================] - 5s 134us/sample - loss: 1.6077e-05\n",
      "Epoch 28/100\n",
      "33748/33748 [==============================] - 5s 141us/sample - loss: 1.5548e-05\n",
      "Epoch 29/100\n",
      "33748/33748 [==============================] - 4s 129us/sample - loss: 1.5220e-05\n",
      "Epoch 30/100\n",
      "33748/33748 [==============================] - 4s 133us/sample - loss: 1.4857e-05\n",
      "Epoch 31/100\n",
      "33748/33748 [==============================] - 4s 133us/sample - loss: 1.4850e-05\n",
      "Epoch 32/100\n",
      "33748/33748 [==============================] - 5s 156us/sample - loss: 1.4291e-05\n",
      "Epoch 33/100\n",
      "33748/33748 [==============================] - 4s 127us/sample - loss: 1.4445e-05\n",
      "Epoch 34/100\n",
      "33748/33748 [==============================] - 4s 117us/sample - loss: 1.4250e-05\n",
      "Epoch 35/100\n",
      "33748/33748 [==============================] - 4s 115us/sample - loss: 1.3790e-05\n",
      "Epoch 36/100\n",
      "33748/33748 [==============================] - 4s 115us/sample - loss: 1.3902e-05\n",
      "Epoch 37/100\n",
      "33748/33748 [==============================] - 4s 132us/sample - loss: 1.3819e-05\n",
      "Epoch 38/100\n",
      "33748/33748 [==============================] - 4s 116us/sample - loss: 1.3400e-05\n",
      "Epoch 39/100\n",
      "33748/33748 [==============================] - 4s 124us/sample - loss: 1.3249e-05\n",
      "Epoch 40/100\n",
      "33748/33748 [==============================] - 5s 141us/sample - loss: 1.3255e-05\n",
      "Epoch 41/100\n",
      "33748/33748 [==============================] - 6s 164us/sample - loss: 1.3164e-05\n",
      "Epoch 42/100\n",
      "33748/33748 [==============================] - 5s 140us/sample - loss: 1.2916e-05\n",
      "Epoch 43/100\n",
      "33748/33748 [==============================] - 4s 132us/sample - loss: 1.2999e-05\n",
      "Epoch 44/100\n",
      "33748/33748 [==============================] - 4s 124us/sample - loss: 1.2705e-05\n",
      "Epoch 45/100\n",
      "33748/33748 [==============================] - 4s 117us/sample - loss: 1.2733e-05\n",
      "Epoch 46/100\n",
      "33748/33748 [==============================] - 4s 116us/sample - loss: 1.2706e-05\n",
      "Epoch 47/100\n",
      "33748/33748 [==============================] - 4s 131us/sample - loss: 1.2813e-05\n",
      "Epoch 48/100\n",
      "33748/33748 [==============================] - 5s 141us/sample - loss: 1.2569e-05\n",
      "Epoch 49/100\n",
      "33748/33748 [==============================] - 4s 122us/sample - loss: 1.2647e-05\n",
      "Epoch 50/100\n",
      "33748/33748 [==============================] - 4s 129us/sample - loss: 1.2491e-05\n",
      "Epoch 51/100\n",
      "33748/33748 [==============================] - 6s 164us/sample - loss: 1.2416e-05\n",
      "Epoch 52/100\n",
      "33748/33748 [==============================] - 5s 141us/sample - loss: 1.2557e-05\n",
      "Epoch 53/100\n",
      "33748/33748 [==============================] - 5s 139us/sample - loss: 1.2339e-05\n",
      "Epoch 54/100\n",
      "33748/33748 [==============================] - 5s 147us/sample - loss: 1.2356e-05\n",
      "Epoch 55/100\n",
      "33748/33748 [==============================] - 6s 165us/sample - loss: 1.2261e-05\n",
      "Epoch 56/100\n",
      "33748/33748 [==============================] - 6s 183us/sample - loss: 1.2435e-05\n",
      "Epoch 57/100\n",
      "33748/33748 [==============================] - 5s 134us/sample - loss: 1.2293e-05\n",
      "Epoch 58/100\n",
      "33748/33748 [==============================] - 5s 139us/sample - loss: 1.2172e-05\n",
      "Epoch 59/100\n",
      "33748/33748 [==============================] - 4s 122us/sample - loss: 1.2128e-05\n",
      "Epoch 60/100\n",
      "33748/33748 [==============================] - 4s 127us/sample - loss: 1.2123e-05\n",
      "Epoch 61/100\n",
      "33748/33748 [==============================] - 4s 130us/sample - loss: 1.2213e-05\n",
      "Epoch 62/100\n",
      "33748/33748 [==============================] - 4s 127us/sample - loss: 1.2064e-05\n",
      "Epoch 63/100\n",
      "33748/33748 [==============================] - 5s 134us/sample - loss: 1.2122e-05\n",
      "Epoch 64/100\n",
      "33748/33748 [==============================] - 4s 133us/sample - loss: 1.2343e-05\n",
      "Epoch 65/100\n",
      "33748/33748 [==============================] - 5s 134us/sample - loss: 1.1956e-05\n",
      "Epoch 66/100\n",
      "33748/33748 [==============================] - 4s 123us/sample - loss: 1.2294e-05\n",
      "Epoch 67/100\n",
      "33748/33748 [==============================] - 4s 124us/sample - loss: 1.2251e-05\n",
      "Epoch 68/100\n",
      "33748/33748 [==============================] - 4s 123us/sample - loss: 1.1923e-05\n",
      "Epoch 69/100\n",
      "33748/33748 [==============================] - 4s 125us/sample - loss: 1.2089e-05\n",
      "Epoch 70/100\n",
      "33748/33748 [==============================] - 4s 123us/sample - loss: 1.2083e-05\n",
      "Epoch 71/100\n",
      "33748/33748 [==============================] - 4s 121us/sample - loss: 1.2135e-05\n",
      "Epoch 72/100\n",
      "33748/33748 [==============================] - 4s 126us/sample - loss: 1.2349e-05\n",
      "Epoch 73/100\n",
      "33748/33748 [==============================] - 4s 122us/sample - loss: 1.2113e-05\n",
      "Epoch 74/100\n",
      "33748/33748 [==============================] - 4s 125us/sample - loss: 1.2107e-05\n",
      "Epoch 75/100\n",
      "33748/33748 [==============================] - 4s 122us/sample - loss: 1.2215e-05\n",
      "Epoch 76/100\n",
      "33748/33748 [==============================] - 4s 117us/sample - loss: 1.1999e-05\n",
      "Epoch 77/100\n",
      "33748/33748 [==============================] - 4s 133us/sample - loss: 1.2024e-05\n",
      "Epoch 78/100\n",
      "33748/33748 [==============================] - 4s 118us/sample - loss: 1.2053e-05\n",
      "Epoch 79/100\n"
     ]
    },
    {
     "name": "stdout",
     "output_type": "stream",
     "text": [
      "33748/33748 [==============================] - 4s 120us/sample - loss: 1.2179e-05\n",
      "Epoch 80/100\n",
      "33748/33748 [==============================] - 4s 128us/sample - loss: 1.2164e-05\n",
      "Epoch 81/100\n",
      "33748/33748 [==============================] - 4s 127us/sample - loss: 1.2031e-05\n",
      "Epoch 82/100\n",
      "33748/33748 [==============================] - 4s 126us/sample - loss: 1.2102e-05\n",
      "Epoch 83/100\n",
      "33748/33748 [==============================] - 4s 127us/sample - loss: 1.1938e-05\n",
      "Epoch 84/100\n",
      "33748/33748 [==============================] - 4s 124us/sample - loss: 1.1979e-05\n",
      "Epoch 85/100\n",
      "33748/33748 [==============================] - 4s 119us/sample - loss: 1.2125e-05\n",
      "Epoch 86/100\n",
      "33748/33748 [==============================] - 4s 118us/sample - loss: 1.2159e-05\n",
      "Epoch 87/100\n",
      "33748/33748 [==============================] - 4s 122us/sample - loss: 1.2035e-05\n",
      "Epoch 88/100\n",
      "33748/33748 [==============================] - 4s 120us/sample - loss: 1.1995e-05\n",
      "Epoch 89/100\n",
      "33748/33748 [==============================] - 4s 119us/sample - loss: 1.1901e-05\n",
      "Epoch 90/100\n",
      "33748/33748 [==============================] - 4s 121us/sample - loss: 1.2022e-05\n",
      "Epoch 91/100\n",
      "33748/33748 [==============================] - 4s 118us/sample - loss: 1.1920e-05\n",
      "Epoch 92/100\n",
      "33748/33748 [==============================] - 4s 129us/sample - loss: 1.1904e-05\n",
      "Epoch 93/100\n",
      "33748/33748 [==============================] - 4s 121us/sample - loss: 1.2082e-05\n",
      "Epoch 94/100\n",
      "33748/33748 [==============================] - 4s 118us/sample - loss: 1.1774e-05\n",
      "Epoch 95/100\n",
      "33748/33748 [==============================] - 4s 119us/sample - loss: 1.2000e-05\n",
      "Epoch 96/100\n",
      "33748/33748 [==============================] - 4s 120us/sample - loss: 1.1987e-05\n",
      "Epoch 97/100\n",
      "33748/33748 [==============================] - 4s 124us/sample - loss: 1.2111e-05\n",
      "Epoch 98/100\n",
      "33748/33748 [==============================] - 4s 124us/sample - loss: 1.2072e-05\n",
      "Epoch 99/100\n",
      "33748/33748 [==============================] - 4s 120us/sample - loss: 1.1897e-05\n",
      "Epoch 100/100\n",
      "33748/33748 [==============================] - 4s 118us/sample - loss: 1.1988e-05\n"
     ]
    },
    {
     "data": {
      "text/plain": [
       "<tensorflow.python.keras.callbacks.History at 0x1686c51f2e8>"
      ]
     },
     "execution_count": 21,
     "metadata": {},
     "output_type": "execute_result"
    }
   ],
   "source": [
    "#build the model\n",
    "model = Sequential()\n",
    "model.add(LSTM(4, input_shape=(series, 1)))\n",
    "model.add(Dense(1))\n",
    "model.compile(loss='mse', optimizer='adam')\n",
    "#fit the model\n",
    "model.fit(trainX, trainY, epochs=100, batch_size=32)#??batch_size"
   ]
  },
  {
   "cell_type": "code",
   "execution_count": 22,
   "metadata": {},
   "outputs": [],
   "source": [
    "#test this model out\n",
    "trainPredictions = model.predict(trainX)\n",
    "testPredictions = model.predict(testX)\n",
    "#unscale predictions\n",
    "trainPredictions = scaler.inverse_transform(trainPredictions)#??scaler\n",
    "testPredictions = scaler.inverse_transform(testPredictions)\n",
    "trainY = scaler.inverse_transform([trainY])\n",
    "testY = scaler.inverse_transform([testY])"
   ]
  },
  {
   "cell_type": "code",
   "execution_count": 23,
   "metadata": {},
   "outputs": [
    {
     "name": "stdout",
     "output_type": "stream",
     "text": [
      "Train score: %.2f rmse 6.189068727172461\n",
      "Test score: %.2f rmse 5.26887354878282\n"
     ]
    }
   ],
   "source": [
    "#lets calculate the root mean squared error\n",
    "trainScore = math.sqrt(mean_squared_error(trainY[0], trainPredictions[:, 0]))#??\n",
    "testScore = math.sqrt(mean_squared_error(testY[0], testPredictions[:, 0]))\n",
    "print('Train score: %.2f rmse', trainScore)\n",
    "print('Test score: %.2f rmse', testScore)"
   ]
  },
  {
   "cell_type": "code",
   "execution_count": 24,
   "metadata": {},
   "outputs": [
    {
     "data": {
      "image/png": "[encoded data removed]",
      "text/plain": [
       "<Figure size 432x288 with 1 Axes>"
      ]
     },
     "metadata": {
      "needs_background": "light"
     },
     "output_type": "display_data"
    }
   ],
   "source": [
    "#lets plot the predictions on a graph and see how well it did\n",
    "train_plot = np.empty_like(msft_close)#??\n",
    "train_plot[:,:] = np.nan\n",
    "train_plot[series:len(trainPredictions)+series, :] = trainPredictions\n",
    "\n",
    "test_plot = np.empty_like(msft_close)\n",
    "test_plot[:,:] = np.nan\n",
    "test_plot[len(trainPredictions)+(series*2)+1:len(msft_close)-1, :] = testPredictions\n",
    "\n",
    "#plot on graph\n",
    "plt.plot(scaler.inverse_transform(msft_close))\n",
    "plt.plot(train_plot)\n",
    "plt.plot(test_plot)\n",
    "plt.show()"
   ]
  },
  {
   "cell_type": "code",
   "execution_count": null,
   "metadata": {},
   "outputs": [],
   "source": []
  }
 ],
 "metadata": {
  "kernelspec": {
   "display_name": "Python 3",
   "language": "python",
   "name": "python3"
  },
  "language_info": {
   "codemirror_mode": {
    "name": "ipython",
    "version": 3
   },
   "file_extension": ".py",
   "mimetype": "text/x-python",
   "name": "python",
   "nbconvert_exporter": "python",
   "pygments_lexer": "ipython3",
   "version": "3.6.8"
  }
 },
 "nbformat": 4,
 "nbformat_minor": 2
}
