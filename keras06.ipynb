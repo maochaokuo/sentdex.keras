{
 "cells": [
  {
   "cell_type": "code",
   "execution_count": 1,
   "metadata": {},
   "outputs": [
    {
     "name": "stdout",
     "output_type": "stream",
     "text": [
      "3-conv-64-nodes-0-dense-1550675512\n",
      "Train on 1382 samples, validate on 593 samples\n",
      "Epoch 1/10\n",
      "1382/1382 [==============================] - 10s 8ms/step - loss: 0.6945 - acc: 0.4913 - val_loss: 0.6992 - val_acc: 0.4722\n",
      "Epoch 2/10\n",
      "1382/1382 [==============================] - 10s 7ms/step - loss: 0.6904 - acc: 0.5130 - val_loss: 0.6904 - val_acc: 0.5211\n",
      "Epoch 3/10\n",
      "1382/1382 [==============================] - 9s 7ms/step - loss: 0.6804 - acc: 0.5557 - val_loss: 0.6880 - val_acc: 0.5177\n",
      "Epoch 4/10\n",
      "1382/1382 [==============================] - 10s 7ms/step - loss: 0.6562 - acc: 0.6266 - val_loss: 0.7028 - val_acc: 0.5531\n",
      "Epoch 5/10\n",
      "1382/1382 [==============================] - 10s 7ms/step - loss: 0.6205 - acc: 0.6650 - val_loss: 0.6574 - val_acc: 0.6391\n",
      "Epoch 6/10\n",
      "1382/1382 [==============================] - 10s 7ms/step - loss: 0.5931 - acc: 0.6823 - val_loss: 0.6496 - val_acc: 0.6560\n",
      "Epoch 7/10\n",
      "1382/1382 [==============================] - 10s 7ms/step - loss: 0.5716 - acc: 0.6997 - val_loss: 0.6332 - val_acc: 0.6644\n",
      "Epoch 8/10\n",
      "1382/1382 [==============================] - 11s 8ms/step - loss: 0.5420 - acc: 0.7229 - val_loss: 0.6141 - val_acc: 0.6762\n",
      "Epoch 9/10\n",
      "1382/1382 [==============================] - 13s 9ms/step - loss: 0.5103 - acc: 0.7554 - val_loss: 0.6881 - val_acc: 0.6273\n",
      "Epoch 10/10\n",
      "1382/1382 [==============================] - 14s 10ms/step - loss: 0.4808 - acc: 0.7656 - val_loss: 0.6231 - val_acc: 0.6847\n"
     ]
    }
   ],
   "source": [
    "from tensorflow.python.keras.models import Sequential\n",
    "from tensorflow.python.keras.layers import Dense, Dropout, Activation, Flatten\n",
    "from tensorflow.python.keras.layers import Conv2D, MaxPooling2D\n",
    "# more info on callbakcs: https://keras.io/callbacks/ model saver is cool too.\n",
    "from tensorflow.python.keras.callbacks import TensorBoard\n",
    "import pickle\n",
    "import time\n",
    "\n",
    "pickle_in = open(\"X.pickle\",\"rb\")\n",
    "X = pickle.load(pickle_in)\n",
    "\n",
    "pickle_in = open(\"y.pickle\",\"rb\")\n",
    "y = pickle.load(pickle_in)\n",
    "\n",
    "X = X/255.0\n",
    "\n",
    "dense_layers = [0]\n",
    "layer_sizes = [64]\n",
    "conv_layers = [3]\n",
    "\n",
    "for dense_layer in dense_layers:\n",
    "    for layer_size in layer_sizes:\n",
    "        for conv_layer in conv_layers:\n",
    "            NAME = \"{}-conv-{}-nodes-{}-dense-{}\".format(conv_layer, layer_size, dense_layer, int(time.time()))\n",
    "            print(NAME)\n",
    "\n",
    "            model = Sequential()\n",
    "\n",
    "            model.add(Conv2D(layer_size, (3, 3), input_shape=X.shape[1:]))\n",
    "            model.add(Activation('relu'))\n",
    "            model.add(MaxPooling2D(pool_size=(2, 2)))\n",
    "\n",
    "            for l in range(conv_layer-1):\n",
    "                model.add(Conv2D(layer_size, (3, 3)))\n",
    "                model.add(Activation('relu'))\n",
    "                model.add(MaxPooling2D(pool_size=(2, 2)))\n",
    "\n",
    "            model.add(Flatten())\n",
    "\n",
    "            for _ in range(dense_layer):\n",
    "                model.add(Dense(layer_size))\n",
    "                model.add(Activation('relu'))\n",
    "\n",
    "            model.add(Dense(1))\n",
    "            model.add(Activation('sigmoid'))\n",
    "\n",
    "            tensorboard = TensorBoard(log_dir=\"logs/{}\".format(NAME))\n",
    "\n",
    "            model.compile(loss='binary_crossentropy',\n",
    "                          optimizer='adam',\n",
    "                          metrics=['accuracy'],\n",
    "                          )\n",
    "\n",
    "            model.fit(X, y,\n",
    "                      batch_size=32,\n",
    "                      epochs=10,\n",
    "                      validation_split=0.3,\n",
    "                      callbacks=[tensorboard])\n",
    "\n",
    "model.save('64x3-CNN.model')"
   ]
  },
  {
   "cell_type": "code",
   "execution_count": 3,
   "metadata": {},
   "outputs": [
    {
     "name": "stdout",
     "output_type": "stream",
     "text": [
      "Cat\n"
     ]
    }
   ],
   "source": [
    "import cv2\n",
    "import tensorflow as tf\n",
    "\n",
    "CATEGORIES = [\"Dog\", \"Cat\"]  # will use this to convert prediction num to string value\n",
    "\n",
    "def prepare(filepath):\n",
    "    IMG_SIZE = 50  # 50 in txt-based\n",
    "    img_array = cv2.imread(filepath, cv2.IMREAD_GRAYSCALE)  # read in the image, convert to grayscale\n",
    "    new_array = cv2.resize(img_array, (IMG_SIZE, IMG_SIZE))  # resize image to match model's expected sizing\n",
    "    return new_array.reshape(-1, IMG_SIZE, IMG_SIZE, 1)  # return the image with shaping that TF wants.\n",
    "\n",
    "model = tf.keras.models.load_model(\"64x3-CNN.model\")\n",
    "prediction = model.predict([prepare('dog.jpg')])  # REMEMBER YOU'RE PASSING A LIST OF THINGS YOU WISH TO PREDICT\n",
    "print(CATEGORIES[int(prediction[0][0])])"
   ]
  },
  {
   "cell_type": "code",
   "execution_count": null,
   "metadata": {},
   "outputs": [],
   "source": []
  }
 ],
 "metadata": {
  "kernelspec": {
   "display_name": "Python 3",
   "language": "python",
   "name": "python3"
  },
  "language_info": {
   "codemirror_mode": {
    "name": "ipython",
    "version": 3
   },
   "file_extension": ".py",
   "mimetype": "text/x-python",
   "name": "python",
   "nbconvert_exporter": "python",
   "pygments_lexer": "ipython3",
   "version": "3.6.8"
  }
 },
 "nbformat": 4,
 "nbformat_minor": 2
}
